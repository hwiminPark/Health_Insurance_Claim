{
 "cells": [
  {
   "cell_type": "markdown",
   "metadata": {},
   "source": [
    "# Health Insurance Claim Predictor"
   ]
  },
  {
   "cell_type": "markdown",
   "metadata": {},
   "source": [
    "---"
   ]
  },
  {
   "cell_type": "markdown",
   "metadata": {},
   "source": [
    "## Introduction"
   ]
  },
  {
   "cell_type": "markdown",
   "metadata": {},
   "source": [
    "### Project Overview\n",
    "This project aims to identify the health insurance claims of customers based on various features. The analysis is crucial for decreasing the risk fraudulent claims and increasing overall business profitability by optimizing insurance premium."
   ]
  },
  {
   "cell_type": "markdown",
   "metadata": {},
   "source": [
    "### Background\n",
    "The dataset used in this project is a collection of customer and their health information along with their insurance claim. This dataset provides insights into various factors that might influence insurance claim, including healthiness of the customer, their geographic location, and their wealthiness."
   ]
  },
  {
   "cell_type": "markdown",
   "metadata": {},
   "source": [
    "### Objectives\n",
    "- To segment customer profiles.\n",
    "- To identify what factors greatly impact the insurance claim.\n",
    "- To predict the insurance claim of customers based on various features."
   ]
  },
  {
   "cell_type": "markdown",
   "metadata": {},
   "source": [
    "### Data Description\n",
    "#### Dataset Overview\n",
    "The dataset used in this project is sourced from Kaggle's health insurance dataset. It includes 15000 customer records and 13 features.\n",
    "#### Key Features\n",
    "- age : Age of the policyholder\n",
    "- sex: Gender of policyholder\n",
    "- weight: Weight of the policyholder\n",
    "- bmi: Body mass index of the policyholder\n",
    "- hereditary_diseases: A policyholder has a hereditary diseases or not (no-disease=0; disease=1)\n",
    "- no_of_dependents: Number of dependent persons of the policyholder\n",
    "- smoker: Indicates policyholder is a smoker or not (non-smoker=0;smoker=1)\n",
    "- bloodpressure: Blood pressure reading of policyholder\n",
    "- diabetes: Indicates whether policyholder has diabetes or not (non-diabetic=0; diabetic=1)\n",
    "- regular_ex: A policyholder regularly exercises or not (no-exercise=0; exercise=1)\n",
    "- job_title: Job title of the policyholder\n",
    "- city: The city in which the policyholder resides\n",
    "- claim: The amount claimed by the policyholder \n",
    "#### Data Types\n",
    "- Categorical: sex, hereditary_diseases, smoker, diabetes, regular_ex, job_title, city\n",
    "- Numerical: age, weight, bmi, no_of_dependents, bloodpressure, claim"
   ]
  },
  {
   "cell_type": "markdown",
   "metadata": {},
   "source": [
    "### Prediction\n",
    "The goal is to predict the insurance claim of customers based on various features."
   ]
  },
  {
   "cell_type": "markdown",
   "metadata": {},
   "source": [
    "### Metrics\n",
    "RMSE: The square root of the average of the squared differences between predicted and actual values.\n",
    "\n",
    "$RMSE=\\sqrt{\\frac{1}{n}\\sum_{i=1}^{n}(y_i-\\hat{y}_i)^2}$\n",
    "\n",
    "It provides a measure of how well the model's predictions match the actual values. Lower values indicate better accuracy."
   ]
  },
  {
   "cell_type": "markdown",
   "metadata": {},
   "source": [
    "### References\n",
    "1. Dataset Source: [Kaggle Health Insurance Dataset](https://www.kaggle.com/datasets/sureshgupta/health-insurance-data-set/data)"
   ]
  },
  {
   "cell_type": "markdown",
   "metadata": {},
   "source": [
    "---"
   ]
  },
  {
   "cell_type": "markdown",
   "metadata": {},
   "source": []
  }
 ],
 "metadata": {
  "kernelspec": {
   "display_name": ".venv",
   "language": "python",
   "name": "python3"
  },
  "language_info": {
   "name": "python",
   "version": "3.10.12"
  }
 },
 "nbformat": 4,
 "nbformat_minor": 2
}
