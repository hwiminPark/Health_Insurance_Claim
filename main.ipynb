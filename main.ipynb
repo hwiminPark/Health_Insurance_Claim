{
 "cells": [
  {
   "cell_type": "markdown",
   "metadata": {},
   "source": [
    "# Health Insurance Premium Predictor"
   ]
  },
  {
   "cell_type": "markdown",
   "metadata": {},
   "source": [
    "---"
   ]
  },
  {
   "cell_type": "markdown",
   "metadata": {},
   "source": [
    "## Introduction"
   ]
  },
  {
   "cell_type": "markdown",
   "metadata": {},
   "source": [
    "### Project Overview\n",
    "This project aims to identify the health insurance premiums of customers based on various features. The analysis is crucial for optimizing the health insurance policies and increasing overall business profitability by decreasing the risk."
   ]
  },
  {
   "cell_type": "markdown",
   "metadata": {},
   "source": [
    "### Background\n",
    "The dataset used in this project is a collection of customer and their health information along with their insurance premium. This dataset provides insights into various factors that might influence insurance premium, including healthiness of the customer, their geographic location, and their wealthiness."
   ]
  },
  {
   "cell_type": "markdown",
   "metadata": {},
   "source": [
    "### Objectives\n",
    "- To segment customer profiles.\n",
    "- To identify what factors greatly impact the insurance premium.\n",
    "- To predict the insurance premium of customers based on various features."
   ]
  },
  {
   "cell_type": "markdown",
   "metadata": {},
   "source": []
  }
 ],
 "metadata": {
  "kernelspec": {
   "display_name": ".venv",
   "language": "python",
   "name": "python3"
  },
  "language_info": {
   "name": "python",
   "version": "3.10.12"
  }
 },
 "nbformat": 4,
 "nbformat_minor": 2
}
